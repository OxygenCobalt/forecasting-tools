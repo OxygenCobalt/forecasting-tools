{
 "cells": [
  {
   "cell_type": "code",
   "execution_count": 1,
   "metadata": {},
   "outputs": [
    {
     "name": "stdout",
     "output_type": "stream",
     "text": [
      "[NbConvertApp] Converting notebook README.ipynb to markdown\n",
      "[NbConvertApp] Writing 41189 bytes to README.md\n",
      "┌──────────┬────────────┬───────────┐\n",
      "│ \u001b[1mlast_day\u001b[0m │ \u001b[1mlast_month\u001b[0m │ \u001b[1mlast_week\u001b[0m │\n",
      "├──────────┼────────────┼───────────┤\n",
      "│      179 │      6,597 │     1,286 │\n",
      "└──────────┴────────────┴───────────┘\n",
      "\n"
     ]
    }
   ],
   "source": [
    "# To run the below examples, make sure to run this cell first\n",
    "import dotenv\n",
    "import logging\n",
    "dotenv.load_dotenv()\n",
    "logging.disable(logging.CRITICAL)\n",
    "\n",
    "# To keep the notebook and readme in sync, run this, then delete this code from the top\n",
    "!jupyter nbconvert --to markdown README.ipynb --output README.md\n",
    "\n",
    "# Check recent package stats\n",
    "!pypistats recent forecasting-tools"
   ]
  },
  {
   "cell_type": "markdown",
   "metadata": {},
   "source": [
    "![PyPI version](https://badge.fury.io/py/forecasting-tools.svg)\n",
    "![Python Versions](https://img.shields.io/pypi/pyversions/forecasting-tools.svg)\n",
    "![License](https://img.shields.io/badge/License-MIT-blue.svg)\n",
    "[![Discord](https://img.shields.io/badge/Discord-Join-blue)](https://discord.gg/Dtq4JNdXnw)\n",
    "[![PyPI Downloads](https://static.pepy.tech/badge/forecasting-tools/month)](https://pepy.tech/projects/forecasting-tools)\n",
    "[![PyPI Downloads](https://static.pepy.tech/badge/forecasting-tools)](https://pepy.tech/projects/forecasting-tools)\n",
    "\n",
    "\n",
    "# Quick Install\n",
    "Install this package with `pip install forecasting-tools`\n",
    "\n",
    "# Overview\n",
    "Demo website: https://forecasting-tools.streamlit.app/\n",
    "\n",
    "Demo repo: https://github.com/Metaculus/metac-bot-template\n",
    "\n",
    "This repository contains forecasting and research tools built with Python and Streamlit. The project aims to assist users in making predictions, conducting research, and analyzing data related to hard to answer questions (especially those from Metaculus).\n",
    "\n",
    "Here are the tools most likely to be useful to you:\n",
    "- 🎯 **Forecasting Bot:** General forecaster that integrates with the Metaculus AI benchmarking competition and provides a number of utilities. You can forecast with a pre-existing bot or override the class to customize your own (without redoing all the API code, etc)\n",
    "- 🔌 **Metaculus API Wrapper:** for interacting with questions and tournaments\n",
    "- 📊 **Benchmarking:** Randomly sample quality questions from Metaculus and run you bot against them so you can get an early sense of how your bot is doing by comparing to the community prediction and expected log scores. \n",
    "- 🔍 **Smart Searcher:** A custom AI-powered internet-informed llm powered by Exa.ai and GPT. Its a better (but slightly more expensive) alternative to Perplexity.ai that is configurable, more accurate, able to decide on filters, able to link to exact paragraphs, etc.\n",
    "- 🔑 **Key Factor Analysis:** Key Factors Analysis for scoring, ranking, and prioritizing important variables in forecasting questions\n",
    "\n",
    "Here are some other features of the project:\n",
    "- **Base Rate Researcher:** for calculating event probabilities (still experimental)\n",
    "- **Niche List Researcher:** for analyzing very specific lists of past events or items (still experimental)\n",
    "- **Fermi Estimator:** for breaking down numerical estimates (still experimental)\n",
    "- **Monetary Cost Manager:** for tracking AI and API expenses\n",
    "\n",
    "All the examples below are in a Jupyter Notebook called `README.ipynb` which you can run locally to test the package (make sure to run the first cell though).\n",
    "\n",
    "If you decide you want to join the Metaculus AI Benchmarking Tournament, it is recommended that your start [here](https://github.com/Metaculus/metac-bot-template). This repo is very easy to set up and allows you to get going in 30min.\n",
    "\n",
    "Join the [discord](https://discord.gg/Dtq4JNdXnw) for updates and to give feedback (btw feedback is very appreciated, even just a quick \"I did/didn't decide to use tool X for reason Y, though am busy and don't have time to elaborate\" is helpful to know)\n",
    "\n",
    "Note: This package is still in an experimental phase. The goal is to keep the package API fairly stable, though no guarantees are given at this phase. There will be special effort to keep the ForecastBot and TemplateBot APIs consistent."
   ]
  },
  {
   "cell_type": "markdown",
   "metadata": {},
   "source": [
    "\n",
    "# Forecasting Bot Building\n",
    "\n",
    "## Using the Preexisting Bots\n",
    "\n",
    "The package comes with two major pre-built bots:\n",
    "- **MainBot**: The more sophisticated and expensive bot that does deeper research.\n",
    "- **TemplateBot**: A simpler bot that models the Metaculus templates that's cheaper, easier to start with, and faster to run.\n",
    "\n",
    "They both have roughly the same parameters. See below on how to use the TemplateBot to make forecasts.\n",
    "\n",
    "### Forecasting on a Tournament"
   ]
  },
  {
   "cell_type": "code",
   "execution_count": 3,
   "metadata": {},
   "outputs": [],
   "source": [
    "from forecasting_tools import TemplateBot, MetaculusApi\n",
    "\n",
    "# Initialize the bot\n",
    "bot = TemplateBot(\n",
    "    research_reports_per_question=3,  # Number of separate research attempts per question\n",
    "    predictions_per_research_report=5,  # Number of predictions to make per research report\n",
    "    publish_reports_to_metaculus=False,  # Whether to post the forecasts to Metaculus\n",
    "    folder_to_save_reports_to=\"logs/forecasts/\",  # Where to save detailed reports (file saving environment variable must be set)\n",
    "    skip_previously_forecasted_questions=False\n",
    ")\n",
    "\n",
    "TOURNAMENT_ID = MetaculusApi.CURRENT_QUARTERLY_CUP_ID\n",
    "reports = await bot.forecast_on_tournament(TOURNAMENT_ID)\n",
    "\n",
    "# Print results (if the tournament is not active, no reports will be returned)\n",
    "for report in reports:\n",
    "    print(f\"\\nQuestion: {report.question.question_text}\")\n",
    "    print(f\"Prediction: {report.prediction}\")"
   ]
  },
  {
   "cell_type": "markdown",
   "metadata": {},
   "source": [
    "### Forecasting Outside a Tournament"
   ]
  },
  {
   "cell_type": "code",
   "execution_count": 2,
   "metadata": {},
   "outputs": [
    {
     "name": "stdout",
     "output_type": "stream",
     "text": [
      "Question: Will humans go extinct before 2100?\n",
      "Prediction: 0.03\n",
      "Reasoning:  # SUMMARY *Question*: Will humans go extinct before 2100? *Final Prediction*: 3.0% *Total Cost*: $0...\n",
      "Question: Will YouTube be blocked in Russia?\n",
      "Prediction: 0.7\n",
      "Reasoning:  # SUMMARY *Question*: Will YouTube be blocked in Russia? *Final Prediction*: 70.0% *Total Cost*: $0...\n"
     ]
    }
   ],
   "source": [
    "from forecasting_tools import (\n",
    "    TemplateBot,\n",
    "    BinaryQuestion,\n",
    "    MetaculusApi,\n",
    "    DataOrganizer\n",
    ")\n",
    "\n",
    "# Initialize the bot\n",
    "bot = TemplateBot(\n",
    "    research_reports_per_question=3,\n",
    "    predictions_per_research_report=5,\n",
    "    publish_reports_to_metaculus=False,\n",
    ")\n",
    "\n",
    "# Get and forecast a specific question\n",
    "question1 = MetaculusApi.get_question_by_url(\n",
    "    \"https://www.metaculus.com/questions/578/human-extinction-by-2100/\"\n",
    ")\n",
    "question2 = BinaryQuestion(\n",
    "    question_text=\"Will YouTube be blocked in Russia?\",\n",
    "    background_info=\"...\", # Or 'None'\n",
    "    resolution_criteria=\"...\", # Or 'None'\n",
    "    fine_print=\"...\", # Or 'None'\n",
    ")\n",
    "\n",
    "reports = await bot.forecast_questions([question1, question2])\n",
    "\n",
    "\n",
    "# Print results\n",
    "for report in reports:\n",
    "    print(f\"Question: {report.question.question_text}\")\n",
    "    print(f\"Prediction: {report.prediction}\")\n",
    "    shortened_explanation = report.explanation.replace('\\n', ' ')[:100]\n",
    "    print(f\"Reasoning: {shortened_explanation}...\")\n",
    "\n",
    "# You can also save and load questions and reports\n",
    "file_path = \"temp/reports.json\"\n",
    "DataOrganizer.save_reports_to_file_path(reports, file_path)\n",
    "loaded_reports = DataOrganizer.load_reports_from_file_path(file_path)"
   ]
  },
  {
   "cell_type": "markdown",
   "metadata": {},
   "source": [
    "The bot will:\n",
    "1. Research the question\n",
    "2. Generate multiple independent predictions\n",
    "3. Combine these predictions into a final forecast\n",
    "4. Save detailed research and reasoning to the specified folder\n",
    "5. Optionally post the forecast to Metaculus (if `publish_reports_to_metaculus=True`)\n",
    "\n",
    "Note: You'll need to have your environment variables set up (see the section below)"
   ]
  },
  {
   "cell_type": "markdown",
   "metadata": {},
   "source": [
    "## Customizing the Bot\n",
    "Generally all you have to do to make your own bot is inherit from the TemplateBot and override any combination of the 3 forecasting methods and the 1 research method. This saves you the headache of interacting with the Metaculus API, implementing aggregation of predictions, creating benchmarking interfaces, etc. Below is an example. It may also be helpful to look at the TemplateBot code (forecasting_tools/forecasting/forecast_bots/template_bot.py) for a more complete example."
   ]
  },
  {
   "cell_type": "code",
   "execution_count": 7,
   "metadata": {},
   "outputs": [
    {
     "name": "stdout",
     "output_type": "stream",
     "text": [
      "Question: Will humans go extinct before 2100?\n",
      "Prediction: 0.05\n",
      "Research: # RESEARCH\n",
      "To analyze the question of whether humans will go extinct before 2100, we need to conside...\n"
     ]
    }
   ],
   "source": [
    "from forecasting_tools import (\n",
    "    TemplateBot,\n",
    "    MetaculusQuestion,\n",
    "    BinaryQuestion,\n",
    "    MultipleChoiceQuestion,\n",
    "    NumericQuestion,\n",
    "    ReasonedPrediction,\n",
    "    PredictedOptionList,\n",
    "    NumericDistribution,\n",
    "    SmartSearcher,\n",
    "    MetaculusApi,\n",
    "    GeneralLlm,\n",
    "    PredictionExtractor\n",
    ")\n",
    "from forecasting_tools.ai_models.ai_utils.ai_misc import clean_indents\n",
    "\n",
    "class MyCustomBot(TemplateBot):\n",
    "\n",
    "    async def run_research(self, question: MetaculusQuestion) -> str:\n",
    "        searcher = SmartSearcher(\n",
    "            num_searches_to_run=2,\n",
    "            num_sites_per_search=10\n",
    "        )\n",
    "\n",
    "        prompt = clean_indents(\n",
    "            f\"\"\"\n",
    "            Analyze this forecasting question:\n",
    "            1. Filter for recent events in the past 6 months\n",
    "            2. Don't include domains from youtube.com\n",
    "            3. Look for current trends and data\n",
    "            4. Find historical analogies and base rates\n",
    "\n",
    "            Question: {question.question_text}\n",
    "\n",
    "            Background Info: {question.background_info}\n",
    "            Resolution Criteria: {question.resolution_criteria}\n",
    "            \"\"\"\n",
    "        )\n",
    "\n",
    "        report = await searcher.invoke(prompt)\n",
    "        return report\n",
    "\n",
    "    async def _run_forecast_on_binary(\n",
    "        self, question: BinaryQuestion, research: str\n",
    "    ) -> ReasonedPrediction[float]:\n",
    "        prompt = f\"Please make a prediction on the following question: {question.question_text}. The last thing you write is your final answer as: 'Probability: ZZ%', 0-100\"\n",
    "        reasoning = await GeneralLlm(model=\"metaculus/gpt-4o\", temperature=0).invoke(prompt)\n",
    "        prediction = PredictionExtractor.extract_last_percentage_value(\n",
    "            reasoning, max_prediction=1, min_prediction=0\n",
    "        )\n",
    "        return ReasonedPrediction(\n",
    "            prediction_value=prediction, reasoning=reasoning\n",
    "        )\n",
    "\n",
    "    async def _run_forecast_on_multiple_choice(\n",
    "        self, question: MultipleChoiceQuestion, research: str\n",
    "    ) -> ReasonedPrediction[PredictedOptionList]:\n",
    "        ...\n",
    "\n",
    "    async def _run_forecast_on_numeric(\n",
    "        self, question: NumericQuestion, research: str\n",
    "    ) -> ReasonedPrediction[NumericDistribution]:\n",
    "        ...\n",
    "\n",
    "custom_bot = MyCustomBot()\n",
    "question = MetaculusApi.get_question_by_url(\n",
    "    \"https://www.metaculus.com/questions/578/human-extinction-by-2100/\"\n",
    ")\n",
    "report = await custom_bot.forecast_question(question)\n",
    "print(f\"Question: {report.question.question_text}\")\n",
    "print(f\"Prediction: {report.prediction}\")\n",
    "print(f\"Research: {report.research[:100]}...\")"
   ]
  },
  {
   "cell_type": "markdown",
   "metadata": {},
   "source": [
    "## Join the Metaculus tournament using this package\n",
    "You can create your own custom bot through the package in your own repo. An example can be found [at this repo](https://github.com/Metaculus/metac-bot-template) which you can fork and edit."
   ]
  },
  {
   "cell_type": "markdown",
   "metadata": {},
   "source": [
    "## Setting Environment Variables\n",
    "Whether running locally or through Github actions, you will need to set environment variables. All environment variables you might want are in `.env.template`. Generally you only need the METACULUS_TOKEN if running the Template. Having an EXA_API_KEY (see www.exa.ai) or PERPLEXITY_API_KEY (see www.perplexity.ai) is needed for searching the web. Make sure to put these variables in your `.env` file if running locally and in the Github actions secrets if running on Github actions."
   ]
  },
  {
   "cell_type": "markdown",
   "metadata": {},
   "source": [
    "# Important Utilities"
   ]
  },
  {
   "cell_type": "markdown",
   "metadata": {},
   "source": [
    "## Benchmarking\n",
    "Below is an example of how to run the benchmarker"
   ]
  },
  {
   "cell_type": "code",
   "execution_count": 2,
   "metadata": {},
   "outputs": [
    {
     "name": "stdout",
     "output_type": "stream",
     "text": [
      "--------------------------------\n",
      "Bot: TemplateBot\n",
      "Score: 53.24105782939477\n",
      "Num reports in benchmark: 2\n",
      "Time: 0.23375582297643024min\n",
      "Cost: $0.03020605\n",
      "--------------------------------\n",
      "Bot: CustomBot\n",
      "Score: 53.24105782939476\n",
      "Num reports in benchmark: 2\n",
      "Time: 0.20734789768854778min\n",
      "Cost: $0.019155650000000003\n"
     ]
    }
   ],
   "source": [
    "from forecasting_tools import Benchmarker, TemplateBot, BenchmarkForBot\n",
    "\n",
    "class CustomBot(TemplateBot):\n",
    "    ...\n",
    "\n",
    "# Run benchmark on multiple bots\n",
    "bots = [TemplateBot(), CustomBot()]  # Add your custom bots here\n",
    "benchmarker = Benchmarker(\n",
    "    forecast_bots=bots,\n",
    "    number_of_questions_to_use=2,  # Recommended 100+ for meaningful results\n",
    "    file_path_to_save_reports=\"benchmarks/\"\n",
    ")\n",
    "benchmarks: list[BenchmarkForBot] = await benchmarker.run_benchmark()\n",
    "\n",
    "# View results\n",
    "for benchmark in benchmarks[:2]:\n",
    "    print(\"--------------------------------\")\n",
    "    print(f\"Bot: {benchmark.name}\")\n",
    "    print(f\"Score: {benchmark.average_expected_baseline_score}\") # Higher is better\n",
    "    print(f\"Num reports in benchmark: {len(benchmark.forecast_reports)}\")\n",
    "    print(f\"Time: {benchmark.time_taken_in_minutes}min\")\n",
    "    print(f\"Cost: ${benchmark.total_cost}\")"
   ]
  },
  {
   "cell_type": "markdown",
   "metadata": {},
   "source": [
    "The ideal number of questions to get a good sense of whether one bot is better than another can vary. 100+ should tell your something decent. See [this analysis](https://forum.effectivealtruism.org/posts/DzqSh7akX28JEHf9H/comparing-two-forecasters-in-an-ideal-world) for exploration of the numbers. With two few questions, the results could just be statistical noise.\n",
    "\n",
    "If you use the average inverse expected log score, then a lower score is better. The scoring measures the expected value of your score without needing an actual resolution by assuming that the community prediction is the 'true probability'. This correlates very closely with the baseline score on Metaculus (see analysis in `scripts/simulate_a_tournament.ipynb`)\n",
    "\n",
    "As of Feb 17, 2024 the benchmarker automatically selects a random set of questions from Metaculus that:\n",
    "- Are binary questions (yes/no)\n",
    "- Are currently open\n",
    "- Will resolve within the next year\n",
    "- Have at least 40 forecasters\n",
    "- Have a community prediction\n",
    "- Are not part of a group question\n",
    "\n",
    "As of last edit there are plans to expand this to numeric and multiple choice, but right now it just benchmarks binary questions.\n",
    "\n",
    "You can grab these questions without using the Benchmarker by running the below\n"
   ]
  },
  {
   "cell_type": "code",
   "execution_count": null,
   "metadata": {},
   "outputs": [],
   "source": [
    "from forecasting_tools import MetaculusApi\n",
    "\n",
    "questions = MetaculusApi.get_benchmark_questions(\n",
    "    num_of_questions_to_return=100,\n",
    ")"
   ]
  },
  {
   "cell_type": "markdown",
   "metadata": {},
   "source": [
    "You can also save/load benchmarks to/from json"
   ]
  },
  {
   "cell_type": "code",
   "execution_count": null,
   "metadata": {},
   "outputs": [],
   "source": [
    "from forecasting_tools import BenchmarkForBot\n",
    "\n",
    "# Load\n",
    "file_path = \"benchmarks/benchmark.json\"\n",
    "benchmarks: list[BenchmarkForBot] = BenchmarkForBot.load_json_from_file_path(file_path)\n",
    "\n",
    "# Save\n",
    "new_benchmarks: list[BenchmarkForBot] = benchmarks\n",
    "BenchmarkForBot.save_object_list_to_file_path(new_benchmarks, file_path)\n",
    "\n",
    "# To/From Json String\n",
    "single_benchmark = benchmarks[0]\n",
    "json_object: dict = single_benchmark.to_json()\n",
    "new_benchmark: BenchmarkForBot = BenchmarkForBot.from_json(json_object)"
   ]
  },
  {
   "cell_type": "markdown",
   "metadata": {},
   "source": [
    "Once you have benchmark files in your directory you can run `streamlit run scripts/benchmark_displayer.py` to get a UI with the benchmarks. This will allow you to see metrics, code of the bots, the actual bot responses, etc. It will pull in any files in your directory that have the word \"bench\" in it and are json."
   ]
  },
  {
   "cell_type": "markdown",
   "metadata": {},
   "source": [
    "## Metaculus API\n",
    "The Metaculus API wrapper helps interact with Metaculus questions and tournaments. Grabbing questions returns a pydantic object, and supports important information for Binary, Multiple Choice, Numeric,and Date questions."
   ]
  },
  {
   "cell_type": "code",
   "execution_count": null,
   "metadata": {},
   "outputs": [
    {
     "name": "stdout",
     "output_type": "stream",
     "text": [
      "Question found with url: https://www.metaculus.com/questions/578\n",
      "Question found with url: https://www.metaculus.com/questions/578\n",
      "Num tournament questions: 11\n",
      "Num filtered questions: 50\n",
      "Num benchmark questions: 20\n",
      "Posted prediction\n",
      "Posted comment\n"
     ]
    }
   ],
   "source": [
    "from forecasting_tools import MetaculusApi, ApiFilter, DataOrganizer\n",
    "from datetime import datetime\n",
    "\n",
    "\n",
    "# Get a question by post id\n",
    "question = MetaculusApi.get_question_by_post_id(578)\n",
    "print(f\"Question found with url: {question.page_url}\")\n",
    "\n",
    "# Get a question by url\n",
    "question = MetaculusApi.get_question_by_url(\"https://www.metaculus.com/questions/578/human-extinction-by-2100/\")\n",
    "print(f\"Question found with url: {question.page_url}\")\n",
    "\n",
    "# Get all open questions from a tournament\n",
    "questions = MetaculusApi.get_all_open_questions_from_tournament(\n",
    "    tournament_id=MetaculusApi.CURRENT_QUARTERLY_CUP_ID\n",
    ")\n",
    "print(f\"Num tournament questions: {len(questions)}\")\n",
    "\n",
    "# Get questions matching a filter\n",
    "api_filter = ApiFilter(\n",
    "    num_forecasters_gte=40,\n",
    "    close_time_gt=datetime(2023, 12, 31),\n",
    "    close_time_lt=datetime(2024, 12, 31),\n",
    "    scheduled_resolve_time_lt=datetime(2024, 12, 31),\n",
    "    allowed_types=[\"binary\", \"multiple_choice\", \"numeric\", \"date\"],\n",
    "    allowed_statuses=[\"resolved\"],\n",
    ")\n",
    "questions = await MetaculusApi.get_questions_matching_filter(\n",
    "    api_filter=api_filter,\n",
    "    num_questions=50, # Remove this field to make it not error if you don't get 50 questions. However it will only go through one page of questions which may miss questions matching the ApiFilter since some filters are handled locally.\n",
    "    randomly_sample=False\n",
    ")\n",
    "print(f\"Num filtered questions: {len(questions)}\")\n",
    "\n",
    "# Load and save questions/reports\n",
    "file_path = \"temp/questions.json\"\n",
    "DataOrganizer.save_questions_to_file_path(questions, file_path)\n",
    "questions = DataOrganizer.load_questions_from_file_path(file_path)\n",
    "\n",
    "# Get benchmark questions\n",
    "benchmark_questions = MetaculusApi.get_benchmark_questions(\n",
    "    num_of_questions_to_return=20\n",
    ")\n",
    "print(f\"Num benchmark questions: {len(benchmark_questions)}\")\n",
    "\n",
    "# Post a prediction\n",
    "MetaculusApi.post_binary_question_prediction(\n",
    "    question_id=578, # Note that the question ID is not always the same as the post ID\n",
    "    prediction_in_decimal=0.012  # Must be between 0.01 and 0.99\n",
    ")\n",
    "print(\"Posted prediction\")\n",
    "\n",
    "# Post a comment\n",
    "MetaculusApi.post_question_comment(\n",
    "    post_id=578,\n",
    "    comment_text=\"Here's example reasoning for testing... This will be a private comment...\"\n",
    ")\n",
    "print(\"Posted comment\")"
   ]
  },
  {
   "cell_type": "markdown",
   "metadata": {},
   "source": [
    "# AI Research Tools/Agents"
   ]
  },
  {
   "cell_type": "markdown",
   "metadata": {},
   "source": [
    "## Smart Searcher\n",
    "The Smart Searcher acts like an LLM with internet access. It works a lot like Perplexity.ai API, except:\n",
    "- It has clickable citations that highlights and links directly to the paragraph cited using text fragments\n",
    "- You can ask the AI to use filters for domain, date, and keywords\n",
    "- There are options for structured output (Pydantic objects, lists, dict, list\\[dict\\], etc.)\n",
    "- Concurrent search execution for faster results\n",
    "- Optional detailed works cited list"
   ]
  },
  {
   "cell_type": "code",
   "execution_count": null,
   "metadata": {},
   "outputs": [],
   "source": [
    "\n",
    "searcher = SmartSearcher(\n",
    "    temperature=0,\n",
    "    num_searches_to_run=2,\n",
    "    num_sites_per_search=10,  # Results returned per search\n",
    "    include_works_cited_list=False  # Add detailed citations at the end\n",
    ")\n",
    "\n",
    "response = await searcher.invoke(\n",
    "    \"What is the recent news for Apple?\"\n",
    ")\n",
    "\n",
    "print(response)"
   ]
  },
  {
   "cell_type": "markdown",
   "metadata": {},
   "source": [
    "Example output:\n",
    "> Recent news about Apple includes several significant developments:\n",
    ">\n",
    "> 1. **Expansion in India**: Apple is planning to open four more stores in India, with two in Delhi and Mumbai, and two in Bengaluru and Pune. This decision follows record revenues in India for the September 2024 quarter, driven by strong iPhone sales. Tim Cook, Apple's CEO, highlighted the enthusiasm and growth in the Indian market during the company's earnings call \\[[1](https://telecomtalk.info/tim-cook-makes-major-announcement-for-apple-in-india/984260/#:~:text=This%20is%20not%20a%20new,first%20time%20Apple%20confirmed%20it.)\\]\\[[4](https://telecomtalk.info/tim-cook-makes-major-announcement-for-apple-in-india/984260/#:~:text=This%20is%20not%20a%20new,set%20an%20all%2Dtime%20revenue%20record.)\\]\\[[5](https://telecomtalk.info/tim-cook-makes-major-announcement-for-apple-in-india/984260/#:~:text=Previously%2C%20Diedre%20O%27Brien%2C%20Apple%27s%20senior,East%2C%20India%20and%20South%20Asia.)\\]\\[[8](https://telecomtalk.info/tim-cook-makes-major-announcement-for-apple-in-india/984260/#:~:text=At%20the%20company%27s%20earnings%20call,four%20new%20stores%20in%20India.)\\].\n",
    ">\n",
    "> 2. **Product Launches**: Apple is set to launch new iMac, Mac mini, and MacBook Pro models with M4 series chips on November 8, 2024. Additionally, the Vision Pro headset will be available in South Korea and the United Arab Emirates starting November 15, 2024. The second season of the Apple TV+ sci-fi series \"Silo\" will also premiere on November 15, 2024 \\[[2](https://www.macrumors.com/2024/11/01/what-to-expect-from-apple-this-november/#:~:text=And%20the%20Vision%20Pro%20launches,the%20App%20Store%2C%20and%20more.)\\]\\[[12](https://www.macrumors.com/2024/11/01/what-to-expect-from-apple-this-november/#:~:text=As%20for%20hardware%2C%20the%20new,announcements%20in%20store%20this%20November.)\\].\n",
    ">\n",
    "> ... etc ...\n",
    "\n",
    "You can also use structured outputs by providing a Pydantic model (or any other simpler type hint) and using the schema formatting helper:"
   ]
  },
  {
   "cell_type": "code",
   "execution_count": null,
   "metadata": {},
   "outputs": [],
   "source": [
    "from pydantic import BaseModel, Field\n",
    "from forecasting_tools import SmartSearcher\n",
    "\n",
    "class Company(BaseModel):\n",
    "    name: str = Field(description=\"Full company name\")\n",
    "    market_cap: float = Field(description=\"Market capitalization in billions USD\")\n",
    "    key_products: list[str] = Field(description=\"Main products or services\")\n",
    "    relevance: str = Field(description=\"Why this company is relevant to the search\")\n",
    "\n",
    "searcher = SmartSearcher(temperature=0, num_searches_to_run=4, num_sites_per_search=10)\n",
    "\n",
    "schema_instructions = searcher.get_schema_format_instructions_for_pydantic_type(Company)\n",
    "prompt = f\"\"\"Find companies that are leading the development of autonomous vehicles.\n",
    "Return as a list of companies with their details. Remember to give me a list of the schema provided.\n",
    "\n",
    "{schema_instructions}\"\"\"\n",
    "\n",
    "companies = await searcher.invoke_and_return_verified_type(prompt, list[Company])\n",
    "\n",
    "for company in companies:\n",
    "    print(f\"\\n{company.name} (${company.market_cap}B)\")\n",
    "    print(f\"Relevance: {company.relevance}\")\n",
    "    print(\"Key Products:\")\n",
    "    for product in company.key_products:\n",
    "        print(f\"- {product}\")"
   ]
  },
  {
   "cell_type": "markdown",
   "metadata": {},
   "source": [
    "The schema instructions will format the Pydantic model into clear instructions for the AI about the expected output format and field descriptions.\n",
    "\n",
    "\n",
    "## Key Factors Researcher\n",
    "The Key Factors Researcher helps identify and analyze key factors that should be considered for a forecasting question. As of last update, this is the most reliable of the tools, and gives something useful and accurate almost every time. It asks a lot of questions, turns search results into a long list of bullet points, rates each bullet point on ~8 criteria, and returns the top results."
   ]
  },
  {
   "cell_type": "code",
   "execution_count": null,
   "metadata": {},
   "outputs": [],
   "source": [
    "from forecasting_tools import (\n",
    "    KeyFactorsResearcher,\n",
    "    BinaryQuestion,\n",
    "    ScoredKeyFactor\n",
    ")\n",
    "\n",
    "# Consider using MetaculusApi.get_question_by_id or MetaculusApi.get_question_by_url instead\n",
    "question = BinaryQuestion(\n",
    "    question_text=\"Will YouTube be blocked in Russia?\",\n",
    "    background_info=\"...\", # Or 'None'\n",
    "    resolution_criteria=\"...\", # Or 'None'\n",
    "    fine_print=\"...\", # Or 'None'\n",
    ")\n",
    "\n",
    "# Find key factors\n",
    "key_factors = await KeyFactorsResearcher.find_and_sort_key_factors(\n",
    "    metaculus_question=question,\n",
    "    num_key_factors_to_return=5,  # Number of final factors to return\n",
    "    num_questions_to_research_with=26  # Number of research questions to generate\n",
    ")\n",
    "\n",
    "print(ScoredKeyFactor.turn_key_factors_into_markdown_list(key_factors))"
   ]
  },
  {
   "cell_type": "markdown",
   "metadata": {},
   "source": [
    "Example output:\n",
    "> - The Russian authorities have slowed YouTube speeds to near unusable levels, indicating a potential groundwork for a future ban. [Source Published on 2024-09-12](https://meduza.io/en/feature/2024/09/12/the-russian-authorities-slowed-youtube-speeds-to-near-unusable-levels-so-why-are-kremlin-critics-getting-more-views#:~:text=Kolezev%20attributed%20this%20to%20the,suddenly%20stopped%20working%20in%20Russia.)\n",
    "> - Russian lawmaker Alexander Khinshtein stated that YouTube speeds would be deliberately slowed by up to 70% due to Google's non-compliance with Russian demands, indicating escalating measures against YouTube. [Source Published on 2024-07-25](https://www.yahoo.com/news/russia-slow-youtube-speeds-google-180512830.html#:~:text=Russia%20will%20deliberately%20slow%20YouTube,forces%20and%20promoting%20extremist%20content.)\n",
    "> - The press secretary of President Vladimir Putin, Dmitry Peskov, denied that the authorities intended to block YouTube, attributing access issues to outdated equipment due to sanctions. [Source Published on 2024-08-17](https://www.wsws.org/en/articles/2024/08/17/pbyj-a17.html#:~:text=%5BAP%20Photo%2FAP%20Photo%5D%20On%20July,two%20years%20due%20to%20sanctions.)\n",
    "> - YouTube is currently the last Western social media platform still operational in Russia, with over 93 million users in the country. [Source Published on 2024-07-26](https://www.techradar.com/pro/vpn/youtube-is-getting-throttled-in-russia-heres-how-to-unblock-it#:~:text=If%20you%27re%20in%20Russia%20and,platform%20to%20work%20in%20Russia.)\n",
    "> - Russian users reported mass YouTube outages amid growing official criticism, with reports of thousands of glitches in August 2024. [Source Published on 2024-08-09](https://www.aljazeera.com/news/2024/8/9/russian-users-report-mass-youtube-outage-amid-growing-official-criticism?traffic_source=rss#:~:text=Responding%20to%20this%2C%20a%20YouTube,reported%20about%20YouTube%20in%20Russia.)\n",
    "\n",
    "\n",
    "The simplified pydantic structure of the scored key factors is:\n",
    "```python\n",
    "class ScoredKeyFactor():\n",
    "    text: str\n",
    "    factor_type: KeyFactorType (Pro, Con, or Base_Rate)\n",
    "    citation: str\n",
    "    source_publish_date: datetime | None\n",
    "    url: str\n",
    "    score_card: ScoreCard\n",
    "    score: int\n",
    "    display_text: str\n",
    "```\n",
    "\n",
    "## Base Rate Researcher\n",
    "The Base Rate Researcher helps calculate historical base rates for events. As of last update, it gives decent results around 50% of the time. It orchestrates the Niche List Researcher and the Fermi Estimator to find base rate."
   ]
  },
  {
   "cell_type": "code",
   "execution_count": null,
   "metadata": {},
   "outputs": [],
   "source": [
    "from forecasting_tools import BaseRateResearcher\n",
    "\n",
    "# Initialize researcher\n",
    "researcher = BaseRateResearcher(\n",
    "    \"How often has Apple been successfully sued for patent violations?\"\n",
    ")\n",
    "\n",
    "# Get base rate analysis\n",
    "report = await researcher.make_base_rate_report()\n",
    "\n",
    "print(f\"Historical rate: {report.historical_rate:.2%}\")\n",
    "print(report.markdown_report)"
   ]
  },
  {
   "cell_type": "markdown",
   "metadata": {},
   "source": [
    "## Niche List Researcher\n",
    "The Niche List Researcher helps analyze specific lists of events or items. The researcher will:\n",
    "1. Generate a comprehensive list of potential matches\n",
    "2. Remove duplicates\n",
    "3. Fact check each item against multiple criteria\n",
    "4. Return only validated items (unless include_incorrect_items=True)"
   ]
  },
  {
   "cell_type": "code",
   "execution_count": null,
   "metadata": {},
   "outputs": [],
   "source": [
    "from forecasting_tools import NicheListResearcher\n",
    "\n",
    "researcher = NicheListResearcher(\n",
    "    type_of_thing_to_generate=\"Times Apple was successfully sued for patent violations between 2000-2024\"\n",
    ")\n",
    "\n",
    "fact_checked_items = await researcher.research_niche_reference_class(\n",
    "    return_invalid_items=False\n",
    ")\n",
    "\n",
    "for item in fact_checked_items:\n",
    "    print(item)"
   ]
  },
  {
   "cell_type": "markdown",
   "metadata": {},
   "source": [
    "The simplified pydantic structure of the fact checked items is:\n",
    "```python\n",
    "class FactCheckedItem():\n",
    "    item_name: str\n",
    "    description: str\n",
    "    is_uncertain: bool | None = None\n",
    "    initial_citations: list[str] | None = None\n",
    "    fact_check: FactCheck\n",
    "    type_description: str\n",
    "    is_valid: bool\n",
    "    supporting_urls: list[str]\n",
    "    one_line_fact_check_summary: str\n",
    "\n",
    "class FactCheck(BaseModel):\n",
    "    criteria_assessments: list[CriteriaAssessment]\n",
    "    is_valid: bool\n",
    "\n",
    "class CriteriaAssessment():\n",
    "    short_name: str\n",
    "    description: str\n",
    "    validity_assessment: str\n",
    "    is_valid_or_unknown: bool | None\n",
    "    citation_proving_assessment: str | None\n",
    "    url_proving_assessment: str | None:\n",
    "```"
   ]
  },
  {
   "cell_type": "markdown",
   "metadata": {},
   "source": [
    "## Fermi Estimator\n",
    "The Fermi Estimator helps break down numerical estimates using Fermi estimation techniques.\n"
   ]
  },
  {
   "cell_type": "code",
   "execution_count": null,
   "metadata": {},
   "outputs": [],
   "source": [
    "from forecasting_tools import Estimator\n",
    "\n",
    "estimator = Estimator(\n",
    "    type_of_thing_to_estimate=\"books published worldwide each year\",\n",
    "    previous_research=None  # Optional: Pass in existing research\n",
    ")\n",
    "\n",
    "size, explanation = await estimator.estimate_size()\n",
    "\n",
    "print(f\"Estimate: {size:,}\")\n",
    "print(explanation)"
   ]
  },
  {
   "cell_type": "markdown",
   "metadata": {},
   "source": [
    "Example output (Fake data with links not added):\n",
    "> I estimate that there are 2,750,000 'books published worldwide each year'.\n",
    ">\n",
    "> **Facts**:\n",
    "> - Traditional publishers release approximately 500,000 new titles annually in English-speaking countries [1]\n",
    "> - China publishes around 450,000 new books annually [2]\n",
    "> - The global book market was valued at $92.68 billion in 2023 [3]\n",
    "> - Self-published titles have grown by 264% in the last 5 years [4]\n",
    "> - Non-English language markets account for about 50% of global publishing [5]\n",
    ">\n",
    "> **Estimation Steps and Assumptions**:\n",
    "> 1. Start with traditional English publishing: 500,000 titles\n",
    "> 2. Add Chinese market: 500,000 + 450,000 = 950,000\n",
    "> 3. Account for other major languages (50% of market): 950,000 * 2 = 1,900,000\n",
    "> 4. Add self-published titles (estimated 45% of total): 1,900,000 * 1.45 = 2,755,000\n",
    ">\n",
    "> **Background Research**: [Additional research details...]"
   ]
  },
  {
   "cell_type": "markdown",
   "metadata": {},
   "source": [
    "## General LLM\n",
    "The `GeneralLlm` class is a wrapper around around litellm's acompletion function that adds some functionality like retry logic, calling the metaculus proxy, and cost callback handling. Litellm supports every model, most every parameter, and acts as one interface for every provider. See the litellm's acompletion function for a full list of parameters. Not all models will support all parameters. Additionally the Metaculus proxy doesn't support all models."
   ]
  },
  {
   "cell_type": "code",
   "execution_count": null,
   "metadata": {},
   "outputs": [],
   "source": [
    "\n",
    "result = await GeneralLlm(model=\"gpt-4o\").invoke(prompt)\n",
    "result = await GeneralLlm(model=\"claude-3-5-sonnet-20241022\").invoke(prompt)\n",
    "result = await GeneralLlm(model=\"metaculus/claude-3-5-sonnet-20241022\").invoke(prompt) # Adding 'metaculus' Calls the Metaculus proxy\n",
    "result = await GeneralLlm(model=\"gemini/gemini-pro\").invoke(prompt)\n",
    "result = await GeneralLlm(\n",
    "    model=\"perplexity/sonar-pro\",\n",
    "    temperature=0.5,\n",
    "    max_tokens=1000,\n",
    "    top_p=0.95,\n",
    "    frequency_penalty=0,\n",
    "    presence_penalty=0,\n",
    "    stop=[\"\\n\\n\"],\n",
    "    response_format=...\n",
    ").invoke(prompt)"
   ]
  },
  {
   "cell_type": "markdown",
   "metadata": {},
   "source": [
    "Additionally `GeneralLlm` provides some interesting structured response options. It will call the model a number of times until it gets the response type desired. The type validation works for any type including pydantic types like `list[BaseModel]` or nested types like `list[tuple[str,dict[int,float]]]`."
   ]
  },
  {
   "cell_type": "code",
   "execution_count": 3,
   "metadata": {},
   "outputs": [
    {
     "name": "stdout",
     "output_type": "stream",
     "text": [
      "President is pydantic: True\n",
      "President: name='Abraham Lincoln' age_at_death=56 biggest_accomplishment=\"Preserving the Union during the American Civil War and issuing the Emancipation Proclamation, which began the process of freedom for America's slaves.\"\n",
      "Regular output: ```json\n",
      "{\n",
      "  \"name\": \"Abraham Lincoln\",\n",
      "  \"age_at_death\": 56,\n",
      "  \"biggest_accomplishment\": \"Preserving the Union during the American Civil War and issuing the Emancipation Proclamation, which began the process of freedom for America's slaves.\"\n",
      "}\n",
      "```\n"
     ]
    }
   ],
   "source": [
    "from forecasting_tools import GeneralLlm\n",
    "from pydantic import BaseModel\n",
    "\n",
    "class President(BaseModel):\n",
    "    name: str\n",
    "    age_at_death: int\n",
    "    biggest_accomplishment: str\n",
    "\n",
    "model = GeneralLlm(model=\"gpt-4o\")\n",
    "pydantic_model_explanation = model.get_schema_format_instructions_for_pydantic_type(President)\n",
    "prompt = clean_indents(f\"\"\"\n",
    "    You are a historian helping with a presidential research project. Please answer the following question:\n",
    "    Who is Abraham Lincoln?\n",
    "    Please provide the information in the following format:\n",
    "    {pydantic_model_explanation}\n",
    "    \"\"\")\n",
    "\n",
    "verified_president = await model.invoke_and_return_verified_type(\n",
    "    prompt,\n",
    "    President,\n",
    "    allowed_invoke_tries_for_failed_output=2\n",
    ")\n",
    "regular_output = await model.invoke(prompt)\n",
    "\n",
    "print(f\"President is pydantic: {isinstance(verified_president, President)}\")\n",
    "print(f\"President: {verified_president}\")\n",
    "print(f\"Regular output: {regular_output}\")\n"
   ]
  },
  {
   "cell_type": "markdown",
   "metadata": {},
   "source": [
    "You can also do some basic code execution."
   ]
  },
  {
   "cell_type": "code",
   "execution_count": 2,
   "metadata": {},
   "outputs": [
    {
     "name": "stdout",
     "output_type": "stream",
     "text": [
      "Result: 10010000.0\n",
      "Code:\n",
      "# Fermi estimate for the number of books published worldwide each year\n",
      "\n",
      "# Estimate the number of countries in the world\n",
      "num_countries = 200  # Rough estimate of the number of countries\n",
      "\n",
      "# Estimate the number of books published per country per year\n",
      "# Assume a small country might publish around 100 books per year\n",
      "# Assume a large country might publish around 100,000 books per year\n",
      "# Use an average of these estimates for a rough calculation\n",
      "avg_books_per_country = (100 + 100000) / 2\n",
      "\n",
      "# Calculate the total number of books published worldwide each year\n",
      "total_books_worldwide = num_countries * avg_books_per_country\n",
      "\n",
      "# Assign the result to the variable 'final_result'\n",
      "final_result = total_books_worldwide\n"
     ]
    }
   ],
   "source": [
    "from forecasting_tools import GeneralLlm, clean_indents\n",
    "\n",
    "model = GeneralLlm(model=\"gpt-4o\")\n",
    "\n",
    "code = clean_indents(\"\"\"\n",
    "    Please run a fermi estimate for the number of books published worldwide each year.\n",
    "    Generate only code and give your reasoning in comments. Do not include any other text, only code.\n",
    "    Assign your answer to the variable 'final_result'.\n",
    "    \"\"\")\n",
    "\n",
    "result, code = await model.invoke_and_unsafely_run_and_return_generated_code(\n",
    "    code,\n",
    "    expected_output_type=float,\n",
    "    allowed_invoke_tries_for_failed_output=2\n",
    ")\n",
    "\n",
    "print(f\"Result: {result}\")\n",
    "print(f\"Code:\\n{code}\")"
   ]
  },
  {
   "cell_type": "markdown",
   "metadata": {},
   "source": [
    "## Monetary Cost Manager\n",
    "The `MonetaryCostManager` helps to track AI and API costs. It tracks expenses and errors if it goes over the limit. Leave the limit empty to disable the limit. Any call made within the context of the manager will be logged in the manager. CostManagers are async safe and can nest inside of each other. Please note that cost is only tracked after a call finishes, so if you concurrently batch 1000 calls, they will all go through even if the cost is exceeded during the middle of the execution of the batch."
   ]
  },
  {
   "cell_type": "code",
   "execution_count": null,
   "metadata": {},
   "outputs": [],
   "source": [
    "from forecasting_tools import MonetaryCostManager\n",
    "from forecasting_tools import (\n",
    "    ExaSearcher, SmartSearcher, GeneralLlm\n",
    ")\n",
    "\n",
    "max_cost = 5.00\n",
    "\n",
    "with MonetaryCostManager(max_cost) as cost_manager:\n",
    "    prompt = \"What is the weather in Tokyo?\"\n",
    "    result = await GeneralLlm(model=\"gpt-4o\").invoke(prompt)\n",
    "    result = await SmartSearcher(model=\"claude-3-5-sonnet-20241022\").invoke(prompt)\n",
    "    result = await ExaSearcher().invoke(prompt)\n",
    "    # ... etc ...\n",
    "\n",
    "    current_cost = cost_manager.current_usage\n",
    "    print(f\"Current cost: ${current_cost:.2f}\")"
   ]
  },
  {
   "cell_type": "markdown",
   "metadata": {},
   "source": [
    "\n",
    "# Local Development\n",
    "\n",
    "## Environment Variables\n",
    "The environment variables you need can be found in ```.env.template```. Copy this template as ```.env``` and fill it in. As of last update, you only strictly need OPENAI_API_KEY and EXA_API_KEY.\n",
    "\n",
    "## Docker Dev Container\n",
    "Dev containers are reliable ways to make sure environments work on everyone's machine the first try and so you don't have to spend hours setting up your environment (especially if you have Docker already installed). If you would rather just use poetry, without the dev container, you can skip to \"Alternatives to Docker\". Otherwise, to get your development environment up and running, you need to have Docker Engine installed and running. Once you do, you can use the VSCode dev container pop-up to automatically set up everything for you.\n",
    "\n",
    "### Install Docker\n",
    "For Windows and Mac, you will download Docker Desktop. For Linux, you will download Docker Engine. (NOTE: These instructions might be outdated).\n",
    "\n",
    "First download and setup Docker Engine using the instructions at the link below for your OS:\n",
    " * Windows: [windows-install](https://docs.docker.com/desktop/install/windows-install/)\n",
    " * Mac: [mac-install](https://docs.docker.com/desktop/install/mac-install/)\n",
    " * Linux: [install](https://docs.docker.com/engine/install/)\n",
    "    * Do not install Docker Desktop for Linux, rather, select your Linux distribution on the left sidebar and follow the distribution specific instructions for Docker engine. Docker Desktop runs with a different environment in Linux.\n",
    "    * Remember to follow the post-installation steps for Linux: [linux-postinstall](https://docs.docker.com/engine/install/linux-postinstall/)\n",
    "\n",
    "\n",
    "### Starting the container\n",
    "Once Docker is installed, when you open up the project folder in VSCode, you will see a pop up noting that you have a setup for a dev container, and asking if you would like to open the folder in a container. You will want to click \"open in container\". This will automatically set up everything you need and bring you into the container. If the Docker process times out in the middle of installing python packages you can run the `.devcontiner/postinstall.sh` manually. You may need to have the VSCode Docker extension and/or devcontainer extension downloaded in order for the pop up to appear.\n",
    "\n",
    "Once you are in the container, poetry should have already installed a virtual environment. For VSCode features to use this environment, you will need to select the correct python interpreter. You can do this by pressing `Ctrl + Shift + P` and then typing `Python: Select Interpreter`. Then select the interpreter that starts with `.venv`.\n",
    "\n",
    "A number of vscode extensions are installed automatically (e.g. linting). You may need to wait a little while and then reload the window (once for things to install, and a second for needed reload after installation). You can install personal vscode extensions in the dev environment.\n",
    "\n",
    "\n",
    "### Managing Docker\n",
    "There are many ways to manager Docker containers, but generally if you download the vscode Docker extension, you will be able to stop/start/remove all containers and images.\n",
    "\n",
    "\n",
    "### Alternatives to Docker\n",
    "If you choose not to run Docker, you can use poetry to set up a local virtual environment. If you are on Ubuntu, you should be able to just read through and then run `.devcontainer/postinstall.sh`. If you aren't on Ubuntu, check out the links in the postinstall file for where install instructions for dependencies were originally found. You may also want to take a look at VSCode extensions that would be installed (see the list in the `.devcontainer/devcontainer.json` file) so that some VSCode workplace settings work out of the box (e.g. automatic Black Formatting).\n",
    "\n",
    "## Private/Custom Code \n",
    "Given you have forked, if you have a custom bot you don't want committed to the repository when you add code the the package, its probably best to create a branch locally that holds your custom branch in order to leave the main branch open to pull updates or push changes you want to add. If you add all your custom files in a new folder (e.g. custom) then you shouldn't have merge conflicts, and can more easily remove the folder when ready to pull or push.\n",
    "\n",
    "If you want to add your bot to the package, feel free to add your bot under `forecasting/forecast_bots/community` and other helper classes under folders that make sense.\n",
    "\n",
    "You should be able to change up `run_bot.py` and merge, and a github action will make sure it doesn't overwrite the main repo's run_bot.py (though not a hard fix if not).\n",
    "\n",
    "## Running the Front End\n",
    "You can run any front end folder in the front_end directory by executing `streamlit run front_end/Home.py`. This will start a development server for you that you can run.\n",
    "\n",
    "Streamlit makes it very easy to publish demos. If you change up the bot(s) within the front_end, you can quickly deploy a free demo others can play with (look up streamlit cloud).\n",
    "\n",
    "## Testing\n",
    "This repository uses pytest tests are subdivided into folders 'unit_tests', 'low_cost_or_live_api', 'expensive'. Unit tests should always pass, while the other tests are for sanity checking. The low cost folder should be able to be run on mass without a huge cost to you. Do not run `pytest` without specifying which folder you want or else you will incur some large expenses from the 'expensive' folder.\n",
    "\n",
    "Also it's helpful to use the log file that is automatically placed at `logs/latest.log`. You may need to set `FILE_WRITING_ALLOWED=TRUE` in .env for this to work."
   ]
  },
  {
   "cell_type": "markdown",
   "metadata": {},
   "source": [
    "# Contributing\n",
    "\n",
    "## Getting Started\n",
    "\n",
    "1. **Fork the Repository**: Fork the repository on GitHub. Clone your fork locally: `git clone git@github.com:your-username/forecasting-tools.git`\n",
    "2. **Set Up Development Environment**: Follow the \"Local Development\" section in the README to set up your environment\n",
    "3. **Come up with an improvement**: Decide on something worth changing. Perhaps, you want to add your own custom bot to the forecasting_bots folder. Perhaps you want to add a tool that you think others could benefit from. As long as your code is clean, you can probably expect your contribution to be accepted, though if you are worried about adoption, feel free to chat on our discord or create an issue.\n",
    "4. **Make a pull request**: \n",
    "   - Make changes\n",
    "   - Push your changes to your fork\n",
    "   - Make sure you rebase with the upstream main branch before doing a PR (`git fetch upstream` and `git rebase upstream/main`)\n",
    "   - Go to your fork in github, and choose the branch that you have that has your changes\n",
    "   - You should see a 'Contribute' button. Click this and make a pull request.\n",
    "   - Fill out the pull request template with a  description of what changed and why and Url for related issues \n",
    "   - Request review from maintainers\n",
    "   - Respond to any feedback and make requested changes\n",
    "\n",
    "## Development Guidelines\n",
    "\n",
    "1. **Code Style**\n",
    "   - Code is automatically formatted on commit using precommit (this should be automatically installed when you start the devcontainer). Formatting is done using Black, Ruff, and some other tools.\n",
    "   - Use type hints for all function parameters and return values\n",
    "   - Use descriptive variable names over comments\n",
    "   - Follow existing patterns in the codebase\n",
    "\n",
    "2. **Testing**\n",
    "   - Add tests where appropriate for new functionality. We aren't shooting for full code coverage, but you shouldn't make none.\n",
    "   - Run unit tests locally before merging to check if you broke anything. See the 'Testing' section.\n",
    "\n",
    "## Questions or Issues?\n",
    "\n",
    "- Join our [Discord](https://discord.gg/Dtq4JNdXnw) for questions\n",
    "- Open an issue for bugs or feature requests\n",
    "\n",
    "Thank you for helping improve forecasting-tools!"
   ]
  }
 ],
 "metadata": {
  "kernelspec": {
   "display_name": ".venv",
   "language": "python",
   "name": "python3"
  },
  "language_info": {
   "codemirror_mode": {
    "name": "ipython",
    "version": 3
   },
   "file_extension": ".py",
   "mimetype": "text/x-python",
   "name": "python",
   "nbconvert_exporter": "python",
   "pygments_lexer": "ipython3",
   "version": "3.10.16"
  }
 },
 "nbformat": 4,
 "nbformat_minor": 2
}
